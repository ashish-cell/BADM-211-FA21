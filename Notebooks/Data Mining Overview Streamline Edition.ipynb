{
  "nbformat": 4,
  "nbformat_minor": 0,
  "metadata": {
    "kernelspec": {
      "display_name": "Python 3",
      "language": "python",
      "name": "python3"
    },
    "language_info": {
      "codemirror_mode": {
        "name": "ipython",
        "version": 3
      },
      "file_extension": ".py",
      "mimetype": "text/x-python",
      "name": "python",
      "nbconvert_exporter": "python",
      "pygments_lexer": "ipython3",
      "version": "3.7.5"
    },
    "varInspector": {
      "cols": {
        "lenName": 16,
        "lenType": 16,
        "lenVar": 40
      },
      "kernels_config": {
        "python": {
          "delete_cmd_postfix": "",
          "delete_cmd_prefix": "del ",
          "library": "var_list.py",
          "varRefreshCmd": "print(var_dic_list())"
        },
        "r": {
          "delete_cmd_postfix": ") ",
          "delete_cmd_prefix": "rm(",
          "library": "var_list.r",
          "varRefreshCmd": "cat(var_dic_list()) "
        }
      },
      "types_to_exclude": [
        "module",
        "function",
        "builtin_function_or_method",
        "instance",
        "_Feature"
      ],
      "window_display": false
    },
    "colab": {
      "name": "Data Mining Overview Streamline Edition.ipynb",
      "provenance": []
    }
  },
  "cells": [
    {
      "cell_type": "markdown",
      "metadata": {
        "id": "Yd6BqO7ZoJDp"
      },
      "source": [
        "# Overview of the Data Mining Process (Streamline Edition)\n",
        "\n",
        "\n",
        "## Import required packages\n",
        "\n",
        "We use the pandas, the Python data analysis library, for handling data. See https://pandas.pydata.org/ for details."
      ]
    },
    {
      "cell_type": "code",
      "metadata": {
        "id": "MzHVXTkQoJD7",
        "outputId": "6a12fde4-fb7a-497d-932c-936f7047a441"
      },
      "source": [
        "%matplotlib inline\n",
        "\n",
        "from pathlib import Path\n",
        "\n",
        "import numpy as np\n",
        "import pandas as pd\n",
        "\n",
        "from sklearn.model_selection import train_test_split\n",
        "\n",
        "from sklearn.metrics import r2_score\n",
        "\n",
        "from sklearn.linear_model import LinearRegression\n",
        "\n",
        "import matplotlib.pylab as plt\n",
        "\n",
        "from dmba import regressionSummary"
      ],
      "execution_count": null,
      "outputs": [
        {
          "name": "stdout",
          "output_type": "stream",
          "text": [
            "no display found. Using non-interactive Agg backend\n"
          ]
        }
      ]
    },
    {
      "cell_type": "markdown",
      "metadata": {
        "id": "AjHhbrEmoVWE"
      },
      "source": [
        "[![Open in Colab](http://colab.research.google.com/assets/colab-badge.svg)](https://colab.research.google.com/github/ashish-cell/BADM-211-FA21/blob/main/Notebooks/Data%20Mining%20Overview%20Streamline%20Edition.ipynb)\n"
      ]
    },
    {
      "cell_type": "markdown",
      "metadata": {
        "id": "mkdd26VeoJEA"
      },
      "source": [
        "Note that we import some of the packages using an alias notation, to make the code more readable.\n",
        "```\n",
        "import <package> as <alias>\n",
        "```\n",
        "The aliases `np`, `pd`, and `plt` are commonly used in the data science community.\n",
        "\n",
        "The following statement defines the location of the data files in your file system. Here we assume that the data folder is located in the parent folder of this ipython notebook."
      ]
    },
    {
      "cell_type": "markdown",
      "metadata": {
        "id": "ut3SovE0oJEH"
      },
      "source": [
        "### Load the data\n",
        "\n",
        "Load the Credit_Quant data set, which attempts to identify those people who are more likely to carry a higher balance because the business model of a credit card company is to have customers with higher balances but also with limited risk.\n",
        "\n",
        "Primarily, we will load either Excel files or comma-separated-value (CSV) files. Note the differences between these two files."
      ]
    },
    {
      "cell_type": "code",
      "metadata": {
        "id": "d35F5QUKoJEL"
      },
      "source": [
        "data_df = pd.read_csv('Credit_Quant.csv')"
      ],
      "execution_count": null,
      "outputs": []
    },
    {
      "cell_type": "code",
      "metadata": {
        "id": "TVKxWRb4oJEN"
      },
      "source": [
        "#data_df = pd.read_excel('Credit_Quant.xlsx')"
      ],
      "execution_count": null,
      "outputs": []
    },
    {
      "cell_type": "markdown",
      "metadata": {
        "id": "q_wD_em3oJEW"
      },
      "source": [
        "#### Show the number of samples and variables in the dataframe."
      ]
    },
    {
      "cell_type": "code",
      "metadata": {
        "id": "n0GwuYTpoJEa",
        "outputId": "9c3e15f8-8b71-4dc3-f310-142e2636353e"
      },
      "source": [
        "data_df.shape"
      ],
      "execution_count": null,
      "outputs": [
        {
          "data": {
            "text/plain": [
              "(310, 11)"
            ]
          },
          "execution_count": 4,
          "metadata": {},
          "output_type": "execute_result"
        }
      ]
    },
    {
      "cell_type": "markdown",
      "metadata": {
        "id": "vzKqYLyyoJEe"
      },
      "source": [
        "#### Show the top 10 rows of the dataframe"
      ]
    },
    {
      "cell_type": "code",
      "metadata": {
        "id": "2QFgwj21oJEl",
        "outputId": "57212b49-6d2d-4a4d-a5f0-1e68cbfaa7cf"
      },
      "source": [
        "data_df.head(10)"
      ],
      "execution_count": null,
      "outputs": [
        {
          "data": {
            "text/html": [
              "<div>\n",
              "<style scoped>\n",
              "    .dataframe tbody tr th:only-of-type {\n",
              "        vertical-align: middle;\n",
              "    }\n",
              "\n",
              "    .dataframe tbody tr th {\n",
              "        vertical-align: top;\n",
              "    }\n",
              "\n",
              "    .dataframe thead th {\n",
              "        text-align: right;\n",
              "    }\n",
              "</style>\n",
              "<table border=\"1\" class=\"dataframe\">\n",
              "  <thead>\n",
              "    <tr style=\"text-align: right;\">\n",
              "      <th></th>\n",
              "      <th>Personal Income</th>\n",
              "      <th>Credit Limit</th>\n",
              "      <th>Credit Rating</th>\n",
              "      <th>Number of Cards</th>\n",
              "      <th>Age</th>\n",
              "      <th>Education Years</th>\n",
              "      <th>Gender</th>\n",
              "      <th>Student</th>\n",
              "      <th>Married</th>\n",
              "      <th>Ethnicity</th>\n",
              "      <th>Credit Balance</th>\n",
              "    </tr>\n",
              "  </thead>\n",
              "  <tbody>\n",
              "    <tr>\n",
              "      <th>0</th>\n",
              "      <td>16.28</td>\n",
              "      <td>1160</td>\n",
              "      <td>126</td>\n",
              "      <td>3</td>\n",
              "      <td>78</td>\n",
              "      <td>13</td>\n",
              "      <td>Male</td>\n",
              "      <td>Yes</td>\n",
              "      <td>Yes</td>\n",
              "      <td>African American</td>\n",
              "      <td>5.0</td>\n",
              "    </tr>\n",
              "    <tr>\n",
              "      <th>1</th>\n",
              "      <td>44.47</td>\n",
              "      <td>3500</td>\n",
              "      <td>257</td>\n",
              "      <td>3</td>\n",
              "      <td>81</td>\n",
              "      <td>16</td>\n",
              "      <td>Female</td>\n",
              "      <td>No</td>\n",
              "      <td>No</td>\n",
              "      <td>African American</td>\n",
              "      <td>8.0</td>\n",
              "    </tr>\n",
              "    <tr>\n",
              "      <th>2</th>\n",
              "      <td>88.83</td>\n",
              "      <td>4952</td>\n",
              "      <td>360</td>\n",
              "      <td>4</td>\n",
              "      <td>86</td>\n",
              "      <td>16</td>\n",
              "      <td>Female</td>\n",
              "      <td>No</td>\n",
              "      <td>Yes</td>\n",
              "      <td>Caucasian</td>\n",
              "      <td>15.0</td>\n",
              "    </tr>\n",
              "    <tr>\n",
              "      <th>3</th>\n",
              "      <td>20.92</td>\n",
              "      <td>1233</td>\n",
              "      <td>128</td>\n",
              "      <td>3</td>\n",
              "      <td>47</td>\n",
              "      <td>18</td>\n",
              "      <td>Female</td>\n",
              "      <td>Yes</td>\n",
              "      <td>Yes</td>\n",
              "      <td>Asian</td>\n",
              "      <td>16.0</td>\n",
              "    </tr>\n",
              "    <tr>\n",
              "      <th>4</th>\n",
              "      <td>33.02</td>\n",
              "      <td>3180</td>\n",
              "      <td>224</td>\n",
              "      <td>2</td>\n",
              "      <td>28</td>\n",
              "      <td>16</td>\n",
              "      <td>Male</td>\n",
              "      <td>No</td>\n",
              "      <td>Yes</td>\n",
              "      <td>African American</td>\n",
              "      <td>29.0</td>\n",
              "    </tr>\n",
              "    <tr>\n",
              "      <th>5</th>\n",
              "      <td>34.54</td>\n",
              "      <td>3271</td>\n",
              "      <td>250</td>\n",
              "      <td>3</td>\n",
              "      <td>57</td>\n",
              "      <td>17</td>\n",
              "      <td>Female</td>\n",
              "      <td>No</td>\n",
              "      <td>Yes</td>\n",
              "      <td>Asian</td>\n",
              "      <td>47.0</td>\n",
              "    </tr>\n",
              "    <tr>\n",
              "      <th>6</th>\n",
              "      <td>34.95</td>\n",
              "      <td>3327</td>\n",
              "      <td>253</td>\n",
              "      <td>3</td>\n",
              "      <td>54</td>\n",
              "      <td>14</td>\n",
              "      <td>Female</td>\n",
              "      <td>No</td>\n",
              "      <td>No</td>\n",
              "      <td>African American</td>\n",
              "      <td>50.0</td>\n",
              "    </tr>\n",
              "    <tr>\n",
              "      <th>7</th>\n",
              "      <td>15.48</td>\n",
              "      <td>2762</td>\n",
              "      <td>215</td>\n",
              "      <td>3</td>\n",
              "      <td>60</td>\n",
              "      <td>18</td>\n",
              "      <td>Male</td>\n",
              "      <td>No</td>\n",
              "      <td>No</td>\n",
              "      <td>Asian</td>\n",
              "      <td>52.0</td>\n",
              "    </tr>\n",
              "    <tr>\n",
              "      <th>8</th>\n",
              "      <td>26.53</td>\n",
              "      <td>2910</td>\n",
              "      <td>236</td>\n",
              "      <td>6</td>\n",
              "      <td>58</td>\n",
              "      <td>19</td>\n",
              "      <td>Female</td>\n",
              "      <td>No</td>\n",
              "      <td>Yes</td>\n",
              "      <td>Caucasian</td>\n",
              "      <td>52.0</td>\n",
              "    </tr>\n",
              "    <tr>\n",
              "      <th>9</th>\n",
              "      <td>17.39</td>\n",
              "      <td>2748</td>\n",
              "      <td>228</td>\n",
              "      <td>3</td>\n",
              "      <td>32</td>\n",
              "      <td>14</td>\n",
              "      <td>Male</td>\n",
              "      <td>No</td>\n",
              "      <td>Yes</td>\n",
              "      <td>Caucasian</td>\n",
              "      <td>68.0</td>\n",
              "    </tr>\n",
              "  </tbody>\n",
              "</table>\n",
              "</div>"
            ],
            "text/plain": [
              "   Personal Income   Credit Limit  Credit Rating  Number of Cards  Age  \\\n",
              "0             16.28          1160            126                3   78   \n",
              "1             44.47          3500            257                3   81   \n",
              "2             88.83          4952            360                4   86   \n",
              "3             20.92          1233            128                3   47   \n",
              "4             33.02          3180            224                2   28   \n",
              "5             34.54          3271            250                3   57   \n",
              "6             34.95          3327            253                3   54   \n",
              "7             15.48          2762            215                3   60   \n",
              "8             26.53          2910            236                6   58   \n",
              "9             17.39          2748            228                3   32   \n",
              "\n",
              "   Education Years  Gender Student Married         Ethnicity  \\\n",
              "0               13    Male     Yes     Yes  African American   \n",
              "1               16  Female      No      No  African American   \n",
              "2               16  Female      No     Yes         Caucasian   \n",
              "3               18  Female     Yes     Yes             Asian   \n",
              "4               16    Male      No     Yes  African American   \n",
              "5               17  Female      No     Yes             Asian   \n",
              "6               14  Female      No      No  African American   \n",
              "7               18    Male      No      No             Asian   \n",
              "8               19  Female      No     Yes         Caucasian   \n",
              "9               14    Male      No     Yes         Caucasian   \n",
              "\n",
              "    Credit Balance    \n",
              "0                5.0  \n",
              "1                8.0  \n",
              "2               15.0  \n",
              "3               16.0  \n",
              "4               29.0  \n",
              "5               47.0  \n",
              "6               50.0  \n",
              "7               52.0  \n",
              "8               52.0  \n",
              "9               68.0  "
            ]
          },
          "execution_count": 5,
          "metadata": {},
          "output_type": "execute_result"
        }
      ]
    },
    {
      "cell_type": "markdown",
      "metadata": {
        "id": "wQo9TuNEoJEp"
      },
      "source": [
        "#### Show the bottom 10 rows of the dataframe"
      ]
    },
    {
      "cell_type": "code",
      "metadata": {
        "id": "6VwFhlnjoJEr",
        "outputId": "5e16c2d2-fd36-4b0a-aabb-517edee0f1b2"
      },
      "source": [
        "data_df.tail(10)"
      ],
      "execution_count": null,
      "outputs": [
        {
          "data": {
            "text/html": [
              "<div>\n",
              "<style scoped>\n",
              "    .dataframe tbody tr th:only-of-type {\n",
              "        vertical-align: middle;\n",
              "    }\n",
              "\n",
              "    .dataframe tbody tr th {\n",
              "        vertical-align: top;\n",
              "    }\n",
              "\n",
              "    .dataframe thead th {\n",
              "        text-align: right;\n",
              "    }\n",
              "</style>\n",
              "<table border=\"1\" class=\"dataframe\">\n",
              "  <thead>\n",
              "    <tr style=\"text-align: right;\">\n",
              "      <th></th>\n",
              "      <th>Personal Income</th>\n",
              "      <th>Credit Limit</th>\n",
              "      <th>Credit Rating</th>\n",
              "      <th>Number of Cards</th>\n",
              "      <th>Age</th>\n",
              "      <th>Education Years</th>\n",
              "      <th>Gender</th>\n",
              "      <th>Student</th>\n",
              "      <th>Married</th>\n",
              "      <th>Ethnicity</th>\n",
              "      <th>Credit Balance</th>\n",
              "    </tr>\n",
              "  </thead>\n",
              "  <tbody>\n",
              "    <tr>\n",
              "      <th>300</th>\n",
              "      <td>158.89</td>\n",
              "      <td>11589</td>\n",
              "      <td>805</td>\n",
              "      <td>1</td>\n",
              "      <td>62</td>\n",
              "      <td>17</td>\n",
              "      <td>Female</td>\n",
              "      <td>No</td>\n",
              "      <td>Yes</td>\n",
              "      <td>Caucasian</td>\n",
              "      <td>1448.0</td>\n",
              "    </tr>\n",
              "    <tr>\n",
              "      <th>301</th>\n",
              "      <td>33.44</td>\n",
              "      <td>6207</td>\n",
              "      <td>451</td>\n",
              "      <td>4</td>\n",
              "      <td>44</td>\n",
              "      <td>9</td>\n",
              "      <td>Male</td>\n",
              "      <td>Yes</td>\n",
              "      <td>No</td>\n",
              "      <td>Caucasian</td>\n",
              "      <td>1549.0</td>\n",
              "    </tr>\n",
              "    <tr>\n",
              "      <th>302</th>\n",
              "      <td>121.83</td>\n",
              "      <td>10673</td>\n",
              "      <td>750</td>\n",
              "      <td>3</td>\n",
              "      <td>54</td>\n",
              "      <td>16</td>\n",
              "      <td>Male</td>\n",
              "      <td>No</td>\n",
              "      <td>No</td>\n",
              "      <td>African American</td>\n",
              "      <td>1573.0</td>\n",
              "    </tr>\n",
              "    <tr>\n",
              "      <th>303</th>\n",
              "      <td>68.71</td>\n",
              "      <td>7582</td>\n",
              "      <td>531</td>\n",
              "      <td>2</td>\n",
              "      <td>56</td>\n",
              "      <td>16</td>\n",
              "      <td>Male</td>\n",
              "      <td>Yes</td>\n",
              "      <td>No</td>\n",
              "      <td>Caucasian</td>\n",
              "      <td>1587.0</td>\n",
              "    </tr>\n",
              "    <tr>\n",
              "      <th>304</th>\n",
              "      <td>107.84</td>\n",
              "      <td>10384</td>\n",
              "      <td>728</td>\n",
              "      <td>3</td>\n",
              "      <td>87</td>\n",
              "      <td>7</td>\n",
              "      <td>Male</td>\n",
              "      <td>No</td>\n",
              "      <td>No</td>\n",
              "      <td>African American</td>\n",
              "      <td>1597.0</td>\n",
              "    </tr>\n",
              "    <tr>\n",
              "      <th>305</th>\n",
              "      <td>140.67</td>\n",
              "      <td>11200</td>\n",
              "      <td>817</td>\n",
              "      <td>7</td>\n",
              "      <td>46</td>\n",
              "      <td>9</td>\n",
              "      <td>Male</td>\n",
              "      <td>No</td>\n",
              "      <td>Yes</td>\n",
              "      <td>African American</td>\n",
              "      <td>1677.0</td>\n",
              "    </tr>\n",
              "    <tr>\n",
              "      <th>306</th>\n",
              "      <td>124.29</td>\n",
              "      <td>9560</td>\n",
              "      <td>701</td>\n",
              "      <td>3</td>\n",
              "      <td>52</td>\n",
              "      <td>17</td>\n",
              "      <td>Female</td>\n",
              "      <td>Yes</td>\n",
              "      <td>No</td>\n",
              "      <td>Asian</td>\n",
              "      <td>1687.0</td>\n",
              "    </tr>\n",
              "    <tr>\n",
              "      <th>307</th>\n",
              "      <td>152.30</td>\n",
              "      <td>12066</td>\n",
              "      <td>828</td>\n",
              "      <td>4</td>\n",
              "      <td>41</td>\n",
              "      <td>12</td>\n",
              "      <td>Female</td>\n",
              "      <td>No</td>\n",
              "      <td>Yes</td>\n",
              "      <td>Asian</td>\n",
              "      <td>1779.0</td>\n",
              "    </tr>\n",
              "    <tr>\n",
              "      <th>308</th>\n",
              "      <td>186.63</td>\n",
              "      <td>13414</td>\n",
              "      <td>949</td>\n",
              "      <td>2</td>\n",
              "      <td>41</td>\n",
              "      <td>14</td>\n",
              "      <td>Female</td>\n",
              "      <td>No</td>\n",
              "      <td>Yes</td>\n",
              "      <td>African American</td>\n",
              "      <td>1809.0</td>\n",
              "    </tr>\n",
              "    <tr>\n",
              "      <th>309</th>\n",
              "      <td>182.73</td>\n",
              "      <td>13913</td>\n",
              "      <td>982</td>\n",
              "      <td>4</td>\n",
              "      <td>98</td>\n",
              "      <td>17</td>\n",
              "      <td>Male</td>\n",
              "      <td>No</td>\n",
              "      <td>Yes</td>\n",
              "      <td>Caucasian</td>\n",
              "      <td>1999.0</td>\n",
              "    </tr>\n",
              "  </tbody>\n",
              "</table>\n",
              "</div>"
            ],
            "text/plain": [
              "     Personal Income   Credit Limit  Credit Rating  Number of Cards  Age  \\\n",
              "300            158.89         11589            805                1   62   \n",
              "301             33.44          6207            451                4   44   \n",
              "302            121.83         10673            750                3   54   \n",
              "303             68.71          7582            531                2   56   \n",
              "304            107.84         10384            728                3   87   \n",
              "305            140.67         11200            817                7   46   \n",
              "306            124.29          9560            701                3   52   \n",
              "307            152.30         12066            828                4   41   \n",
              "308            186.63         13414            949                2   41   \n",
              "309            182.73         13913            982                4   98   \n",
              "\n",
              "     Education Years  Gender Student Married         Ethnicity  \\\n",
              "300               17  Female      No     Yes         Caucasian   \n",
              "301                9    Male     Yes      No         Caucasian   \n",
              "302               16    Male      No      No  African American   \n",
              "303               16    Male     Yes      No         Caucasian   \n",
              "304                7    Male      No      No  African American   \n",
              "305                9    Male      No     Yes  African American   \n",
              "306               17  Female     Yes      No             Asian   \n",
              "307               12  Female      No     Yes             Asian   \n",
              "308               14  Female      No     Yes  African American   \n",
              "309               17    Male      No     Yes         Caucasian   \n",
              "\n",
              "      Credit Balance    \n",
              "300             1448.0  \n",
              "301             1549.0  \n",
              "302             1573.0  \n",
              "303             1587.0  \n",
              "304             1597.0  \n",
              "305             1677.0  \n",
              "306             1687.0  \n",
              "307             1779.0  \n",
              "308             1809.0  \n",
              "309             1999.0  "
            ]
          },
          "execution_count": 6,
          "metadata": {},
          "output_type": "execute_result"
        }
      ]
    },
    {
      "cell_type": "markdown",
      "metadata": {
        "id": "_62FdoKtoJEw"
      },
      "source": [
        "#### Show the variable names (columns of the dataframe)"
      ]
    },
    {
      "cell_type": "code",
      "metadata": {
        "id": "2YSASeNVoJE0",
        "outputId": "f4449f8e-eeb2-4439-fd71-faaa317051ca"
      },
      "source": [
        "data_df.columns"
      ],
      "execution_count": null,
      "outputs": [
        {
          "data": {
            "text/plain": [
              "Index(['Personal Income ', 'Credit Limit', 'Credit Rating', 'Number of Cards',\n",
              "       'Age', 'Education Years', 'Gender', 'Student', 'Married', 'Ethnicity',\n",
              "       ' Credit Balance  '],\n",
              "      dtype='object')"
            ]
          },
          "execution_count": 7,
          "metadata": {},
          "output_type": "execute_result"
        }
      ]
    },
    {
      "cell_type": "markdown",
      "metadata": {
        "id": "PWOoCT_3oJE2"
      },
      "source": [
        "#### Show the data types of all variables"
      ]
    },
    {
      "cell_type": "code",
      "metadata": {
        "id": "vmn5SvktoJE3",
        "outputId": "5d943b1c-7d15-4026-f3bb-74340acedbb4"
      },
      "source": [
        "data_df.dtypes"
      ],
      "execution_count": null,
      "outputs": [
        {
          "data": {
            "text/plain": [
              "Personal Income      float64\n",
              "Credit Limit           int64\n",
              "Credit Rating          int64\n",
              "Number of Cards        int64\n",
              "Age                    int64\n",
              "Education Years        int64\n",
              "Gender                object\n",
              "Student               object\n",
              "Married               object\n",
              "Ethnicity             object\n",
              " Credit Balance      float64\n",
              "dtype: object"
            ]
          },
          "execution_count": 8,
          "metadata": {},
          "output_type": "execute_result"
        }
      ]
    },
    {
      "cell_type": "markdown",
      "metadata": {
        "id": "IXxi_lYyoJE4"
      },
      "source": [
        "#### Show the variable sequence number, variable name, missing values, and datatypes for all variables in the dataframe. This is an easy way to see the information that would require several lines of code to achieve."
      ]
    },
    {
      "cell_type": "code",
      "metadata": {
        "id": "u3o7tGRDoJE5",
        "outputId": "bf6d62ec-3249-49b0-e801-2d514dc780f3"
      },
      "source": [
        "data_df.info()"
      ],
      "execution_count": null,
      "outputs": [
        {
          "name": "stdout",
          "output_type": "stream",
          "text": [
            "<class 'pandas.core.frame.DataFrame'>\n",
            "RangeIndex: 310 entries, 0 to 309\n",
            "Data columns (total 11 columns):\n",
            "Personal Income      310 non-null float64\n",
            "Credit Limit         310 non-null int64\n",
            "Credit Rating        310 non-null int64\n",
            "Number of Cards      310 non-null int64\n",
            "Age                  310 non-null int64\n",
            "Education Years      310 non-null int64\n",
            "Gender               310 non-null object\n",
            "Student              310 non-null object\n",
            "Married              310 non-null object\n",
            "Ethnicity            310 non-null object\n",
            " Credit Balance      310 non-null float64\n",
            "dtypes: float64(2), int64(5), object(4)\n",
            "memory usage: 26.8+ KB\n"
          ]
        }
      ]
    },
    {
      "cell_type": "markdown",
      "metadata": {
        "id": "l66vikZGoJE5"
      },
      "source": [
        "## Cleanup\n",
        "\n",
        "#### Preprocessing and cleaning up data is an important aspect of data analysis. "
      ]
    },
    {
      "cell_type": "markdown",
      "metadata": {
        "id": "ykArElQtoJE6"
      },
      "source": [
        "We therefore strip trailing spaces and replace the remaining spaces with an underscore _. Instead of using the `rename` method, we create a modified copy of `columns` and assign to the `columns` field of the dataframe."
      ]
    },
    {
      "cell_type": "code",
      "metadata": {
        "id": "8d7Q-3OpoJE7",
        "outputId": "c1ac2965-ac40-47d6-d5e6-febecbc1cfd6"
      },
      "source": [
        "data_df.columns = [s.strip().replace(' ', '_') for s in data_df.columns]\n",
        "\n",
        "data_df.columns"
      ],
      "execution_count": null,
      "outputs": [
        {
          "data": {
            "text/plain": [
              "Index(['Personal_Income', 'Credit_Limit', 'Credit_Rating', 'Number_of_Cards',\n",
              "       'Age', 'Education_Years', 'Gender', 'Student', 'Married', 'Ethnicity',\n",
              "       'Credit_Balance'],\n",
              "      dtype='object')"
            ]
          },
          "execution_count": 10,
          "metadata": {},
          "output_type": "execute_result"
        }
      ]
    },
    {
      "cell_type": "markdown",
      "metadata": {
        "id": "vlR9jSC0oJE8"
      },
      "source": [
        "## Accessing subsets of the data\n",
        "Pandas uses two methods to access rows in a data frame; `loc` and `iloc`. The `loc` method is more general and allows accessing rows using labels. The `iloc` method on the other hand only allows using integer numbers. To specify a range of rows use the slice notation, e.g. `0:9`.\n",
        "\n",
        "<div class='alert alert-info'>Note that in contrast to R, Python uses 0-indexing, which means that indices start at 0 and not at 1.</div>\n",
        "\n",
        "To show the first four rows of the data frame, you can use the following commands."
      ]
    },
    {
      "cell_type": "code",
      "metadata": {
        "id": "VbJVFei8oJE9",
        "outputId": "17f9453f-14c5-4b58-a37c-2816e9577717"
      },
      "source": [
        "data_df.loc[0:3]  # for loc, the second index in the slice is inclusive"
      ],
      "execution_count": null,
      "outputs": [
        {
          "data": {
            "text/html": [
              "<div>\n",
              "<style scoped>\n",
              "    .dataframe tbody tr th:only-of-type {\n",
              "        vertical-align: middle;\n",
              "    }\n",
              "\n",
              "    .dataframe tbody tr th {\n",
              "        vertical-align: top;\n",
              "    }\n",
              "\n",
              "    .dataframe thead th {\n",
              "        text-align: right;\n",
              "    }\n",
              "</style>\n",
              "<table border=\"1\" class=\"dataframe\">\n",
              "  <thead>\n",
              "    <tr style=\"text-align: right;\">\n",
              "      <th></th>\n",
              "      <th>Personal_Income</th>\n",
              "      <th>Credit_Limit</th>\n",
              "      <th>Credit_Rating</th>\n",
              "      <th>Number_of_Cards</th>\n",
              "      <th>Age</th>\n",
              "      <th>Education_Years</th>\n",
              "      <th>Gender</th>\n",
              "      <th>Student</th>\n",
              "      <th>Married</th>\n",
              "      <th>Ethnicity</th>\n",
              "      <th>Credit_Balance</th>\n",
              "    </tr>\n",
              "  </thead>\n",
              "  <tbody>\n",
              "    <tr>\n",
              "      <th>0</th>\n",
              "      <td>16.28</td>\n",
              "      <td>1160</td>\n",
              "      <td>126</td>\n",
              "      <td>3</td>\n",
              "      <td>78</td>\n",
              "      <td>13</td>\n",
              "      <td>Male</td>\n",
              "      <td>Yes</td>\n",
              "      <td>Yes</td>\n",
              "      <td>African American</td>\n",
              "      <td>5.0</td>\n",
              "    </tr>\n",
              "    <tr>\n",
              "      <th>1</th>\n",
              "      <td>44.47</td>\n",
              "      <td>3500</td>\n",
              "      <td>257</td>\n",
              "      <td>3</td>\n",
              "      <td>81</td>\n",
              "      <td>16</td>\n",
              "      <td>Female</td>\n",
              "      <td>No</td>\n",
              "      <td>No</td>\n",
              "      <td>African American</td>\n",
              "      <td>8.0</td>\n",
              "    </tr>\n",
              "    <tr>\n",
              "      <th>2</th>\n",
              "      <td>88.83</td>\n",
              "      <td>4952</td>\n",
              "      <td>360</td>\n",
              "      <td>4</td>\n",
              "      <td>86</td>\n",
              "      <td>16</td>\n",
              "      <td>Female</td>\n",
              "      <td>No</td>\n",
              "      <td>Yes</td>\n",
              "      <td>Caucasian</td>\n",
              "      <td>15.0</td>\n",
              "    </tr>\n",
              "    <tr>\n",
              "      <th>3</th>\n",
              "      <td>20.92</td>\n",
              "      <td>1233</td>\n",
              "      <td>128</td>\n",
              "      <td>3</td>\n",
              "      <td>47</td>\n",
              "      <td>18</td>\n",
              "      <td>Female</td>\n",
              "      <td>Yes</td>\n",
              "      <td>Yes</td>\n",
              "      <td>Asian</td>\n",
              "      <td>16.0</td>\n",
              "    </tr>\n",
              "  </tbody>\n",
              "</table>\n",
              "</div>"
            ],
            "text/plain": [
              "   Personal_Income  Credit_Limit  Credit_Rating  Number_of_Cards  Age  \\\n",
              "0            16.28          1160            126                3   78   \n",
              "1            44.47          3500            257                3   81   \n",
              "2            88.83          4952            360                4   86   \n",
              "3            20.92          1233            128                3   47   \n",
              "\n",
              "   Education_Years  Gender Student Married         Ethnicity  Credit_Balance  \n",
              "0               13    Male     Yes     Yes  African American             5.0  \n",
              "1               16  Female      No      No  African American             8.0  \n",
              "2               16  Female      No     Yes         Caucasian            15.0  \n",
              "3               18  Female     Yes     Yes             Asian            16.0  "
            ]
          },
          "execution_count": 11,
          "metadata": {},
          "output_type": "execute_result"
        }
      ]
    },
    {
      "cell_type": "code",
      "metadata": {
        "id": "73PuVTHvoJFA",
        "outputId": "2bf99bb9-25ad-4267-8972-5847a5c71f49"
      },
      "source": [
        "data_df.iloc[0:4]  # for iloc, the second index in the slice is exclusive"
      ],
      "execution_count": null,
      "outputs": [
        {
          "data": {
            "text/html": [
              "<div>\n",
              "<style scoped>\n",
              "    .dataframe tbody tr th:only-of-type {\n",
              "        vertical-align: middle;\n",
              "    }\n",
              "\n",
              "    .dataframe tbody tr th {\n",
              "        vertical-align: top;\n",
              "    }\n",
              "\n",
              "    .dataframe thead th {\n",
              "        text-align: right;\n",
              "    }\n",
              "</style>\n",
              "<table border=\"1\" class=\"dataframe\">\n",
              "  <thead>\n",
              "    <tr style=\"text-align: right;\">\n",
              "      <th></th>\n",
              "      <th>Personal_Income</th>\n",
              "      <th>Credit_Limit</th>\n",
              "      <th>Credit_Rating</th>\n",
              "      <th>Number_of_Cards</th>\n",
              "      <th>Age</th>\n",
              "      <th>Education_Years</th>\n",
              "      <th>Gender</th>\n",
              "      <th>Student</th>\n",
              "      <th>Married</th>\n",
              "      <th>Ethnicity</th>\n",
              "      <th>Credit_Balance</th>\n",
              "    </tr>\n",
              "  </thead>\n",
              "  <tbody>\n",
              "    <tr>\n",
              "      <th>0</th>\n",
              "      <td>16.28</td>\n",
              "      <td>1160</td>\n",
              "      <td>126</td>\n",
              "      <td>3</td>\n",
              "      <td>78</td>\n",
              "      <td>13</td>\n",
              "      <td>Male</td>\n",
              "      <td>Yes</td>\n",
              "      <td>Yes</td>\n",
              "      <td>African American</td>\n",
              "      <td>5.0</td>\n",
              "    </tr>\n",
              "    <tr>\n",
              "      <th>1</th>\n",
              "      <td>44.47</td>\n",
              "      <td>3500</td>\n",
              "      <td>257</td>\n",
              "      <td>3</td>\n",
              "      <td>81</td>\n",
              "      <td>16</td>\n",
              "      <td>Female</td>\n",
              "      <td>No</td>\n",
              "      <td>No</td>\n",
              "      <td>African American</td>\n",
              "      <td>8.0</td>\n",
              "    </tr>\n",
              "    <tr>\n",
              "      <th>2</th>\n",
              "      <td>88.83</td>\n",
              "      <td>4952</td>\n",
              "      <td>360</td>\n",
              "      <td>4</td>\n",
              "      <td>86</td>\n",
              "      <td>16</td>\n",
              "      <td>Female</td>\n",
              "      <td>No</td>\n",
              "      <td>Yes</td>\n",
              "      <td>Caucasian</td>\n",
              "      <td>15.0</td>\n",
              "    </tr>\n",
              "    <tr>\n",
              "      <th>3</th>\n",
              "      <td>20.92</td>\n",
              "      <td>1233</td>\n",
              "      <td>128</td>\n",
              "      <td>3</td>\n",
              "      <td>47</td>\n",
              "      <td>18</td>\n",
              "      <td>Female</td>\n",
              "      <td>Yes</td>\n",
              "      <td>Yes</td>\n",
              "      <td>Asian</td>\n",
              "      <td>16.0</td>\n",
              "    </tr>\n",
              "  </tbody>\n",
              "</table>\n",
              "</div>"
            ],
            "text/plain": [
              "   Personal_Income  Credit_Limit  Credit_Rating  Number_of_Cards  Age  \\\n",
              "0            16.28          1160            126                3   78   \n",
              "1            44.47          3500            257                3   81   \n",
              "2            88.83          4952            360                4   86   \n",
              "3            20.92          1233            128                3   47   \n",
              "\n",
              "   Education_Years  Gender Student Married         Ethnicity  Credit_Balance  \n",
              "0               13    Male     Yes     Yes  African American             5.0  \n",
              "1               16  Female      No      No  African American             8.0  \n",
              "2               16  Female      No     Yes         Caucasian            15.0  \n",
              "3               18  Female     Yes     Yes             Asian            16.0  "
            ]
          },
          "execution_count": 12,
          "metadata": {},
          "output_type": "execute_result"
        }
      ]
    },
    {
      "cell_type": "markdown",
      "metadata": {
        "id": "EtjXxFJPoJFC"
      },
      "source": [
        "Note the difference in the two methods with respect to the slice notation! For consistency with how slices are defined in Python, we will use the `iloc` method mostly from here on.\n",
        "\n",
        "Next, show the first ten rows of the first column"
      ]
    },
    {
      "cell_type": "code",
      "metadata": {
        "id": "yFZoIxThoJFD",
        "outputId": "a157ea0f-c6dc-4e1e-c0fe-04709d8cc70c"
      },
      "source": [
        "data_df['Personal_Income'].iloc[0:10]\n",
        "\n",
        "data_df.iloc[0:10]['Personal_Income']\n",
        "\n",
        "data_df.iloc[0:10].Personal_Income"
      ],
      "execution_count": null,
      "outputs": [
        {
          "data": {
            "text/plain": [
              "0    16.28\n",
              "1    44.47\n",
              "2    88.83\n",
              "3    20.92\n",
              "4    33.02\n",
              "5    34.54\n",
              "6    34.95\n",
              "7    15.48\n",
              "8    26.53\n",
              "9    17.39\n",
              "Name: Personal_Income, dtype: float64"
            ]
          },
          "execution_count": 13,
          "metadata": {},
          "output_type": "execute_result"
        }
      ]
    },
    {
      "cell_type": "markdown",
      "metadata": {
        "id": "RChJU2BjoJFF"
      },
      "source": [
        "To specify a full column, use the `:` on its own.\n",
        "\n",
        "housing.iloc[:,0:1]\n",
        "\n",
        "A often more practical way is to use the column name as follows"
      ]
    },
    {
      "cell_type": "code",
      "metadata": {
        "scrolled": false,
        "id": "NJUwC9hroJFF",
        "outputId": "efc8b50f-8f6b-4399-8667-227d230abd43"
      },
      "source": [
        "data_df['Personal_Income']"
      ],
      "execution_count": null,
      "outputs": [
        {
          "data": {
            "text/plain": [
              "0       16.28\n",
              "1       44.47\n",
              "2       88.83\n",
              "3       20.92\n",
              "4       33.02\n",
              "        ...  \n",
              "305    140.67\n",
              "306    124.29\n",
              "307    152.30\n",
              "308    186.63\n",
              "309    182.73\n",
              "Name: Personal_Income, Length: 310, dtype: float64"
            ]
          },
          "execution_count": 32,
          "metadata": {},
          "output_type": "execute_result"
        }
      ]
    },
    {
      "cell_type": "markdown",
      "metadata": {
        "id": "tDQLi46foJFG"
      },
      "source": [
        "We can subset the column using a slice"
      ]
    },
    {
      "cell_type": "code",
      "metadata": {
        "id": "2GxNlThyoJFG",
        "outputId": "9c3c83e2-5302-49d5-8508-4272e43d4511"
      },
      "source": [
        "data_df['Personal_Income'][0:10]"
      ],
      "execution_count": null,
      "outputs": [
        {
          "data": {
            "text/plain": [
              "0    16.28\n",
              "1    44.47\n",
              "2    88.83\n",
              "3    20.92\n",
              "4    33.02\n",
              "5    34.54\n",
              "6    34.95\n",
              "7    15.48\n",
              "8    26.53\n",
              "9    17.39\n",
              "Name: Personal_Income, dtype: float64"
            ]
          },
          "execution_count": 15,
          "metadata": {},
          "output_type": "execute_result"
        }
      ]
    },
    {
      "cell_type": "markdown",
      "metadata": {
        "id": "SN7FIF5NoJFG"
      },
      "source": [
        "Alternatively, we can use the .head() command on a single column - an easy method to produce the same results."
      ]
    },
    {
      "cell_type": "code",
      "metadata": {
        "id": "UkuBI0IyoJFG",
        "outputId": "92ec7694-6321-4a52-eabc-e1ff6c19efbc"
      },
      "source": [
        "data_df['Personal_Income'].head()"
      ],
      "execution_count": null,
      "outputs": [
        {
          "data": {
            "text/plain": [
              "0    16.28\n",
              "1    44.47\n",
              "2    88.83\n",
              "3    20.92\n",
              "4    33.02\n",
              "Name: Personal_Income, dtype: float64"
            ]
          },
          "execution_count": 16,
          "metadata": {},
          "output_type": "execute_result"
        }
      ]
    },
    {
      "cell_type": "code",
      "metadata": {
        "id": "moKV0fNnoJFH",
        "outputId": "1fdee3de-4796-4f2f-e8d0-45b064e07984"
      },
      "source": [
        "# slicing and dicing by rows and columns, respectively\n",
        "\n",
        "data_df.iloc[0:10, 0:3]"
      ],
      "execution_count": null,
      "outputs": [
        {
          "data": {
            "text/html": [
              "<div>\n",
              "<style scoped>\n",
              "    .dataframe tbody tr th:only-of-type {\n",
              "        vertical-align: middle;\n",
              "    }\n",
              "\n",
              "    .dataframe tbody tr th {\n",
              "        vertical-align: top;\n",
              "    }\n",
              "\n",
              "    .dataframe thead th {\n",
              "        text-align: right;\n",
              "    }\n",
              "</style>\n",
              "<table border=\"1\" class=\"dataframe\">\n",
              "  <thead>\n",
              "    <tr style=\"text-align: right;\">\n",
              "      <th></th>\n",
              "      <th>Personal_Income</th>\n",
              "      <th>Credit_Limit</th>\n",
              "      <th>Credit_Rating</th>\n",
              "    </tr>\n",
              "  </thead>\n",
              "  <tbody>\n",
              "    <tr>\n",
              "      <th>0</th>\n",
              "      <td>16.28</td>\n",
              "      <td>1160</td>\n",
              "      <td>126</td>\n",
              "    </tr>\n",
              "    <tr>\n",
              "      <th>1</th>\n",
              "      <td>44.47</td>\n",
              "      <td>3500</td>\n",
              "      <td>257</td>\n",
              "    </tr>\n",
              "    <tr>\n",
              "      <th>2</th>\n",
              "      <td>88.83</td>\n",
              "      <td>4952</td>\n",
              "      <td>360</td>\n",
              "    </tr>\n",
              "    <tr>\n",
              "      <th>3</th>\n",
              "      <td>20.92</td>\n",
              "      <td>1233</td>\n",
              "      <td>128</td>\n",
              "    </tr>\n",
              "    <tr>\n",
              "      <th>4</th>\n",
              "      <td>33.02</td>\n",
              "      <td>3180</td>\n",
              "      <td>224</td>\n",
              "    </tr>\n",
              "    <tr>\n",
              "      <th>5</th>\n",
              "      <td>34.54</td>\n",
              "      <td>3271</td>\n",
              "      <td>250</td>\n",
              "    </tr>\n",
              "    <tr>\n",
              "      <th>6</th>\n",
              "      <td>34.95</td>\n",
              "      <td>3327</td>\n",
              "      <td>253</td>\n",
              "    </tr>\n",
              "    <tr>\n",
              "      <th>7</th>\n",
              "      <td>15.48</td>\n",
              "      <td>2762</td>\n",
              "      <td>215</td>\n",
              "    </tr>\n",
              "    <tr>\n",
              "      <th>8</th>\n",
              "      <td>26.53</td>\n",
              "      <td>2910</td>\n",
              "      <td>236</td>\n",
              "    </tr>\n",
              "    <tr>\n",
              "      <th>9</th>\n",
              "      <td>17.39</td>\n",
              "      <td>2748</td>\n",
              "      <td>228</td>\n",
              "    </tr>\n",
              "  </tbody>\n",
              "</table>\n",
              "</div>"
            ],
            "text/plain": [
              "   Personal_Income  Credit_Limit  Credit_Rating\n",
              "0            16.28          1160            126\n",
              "1            44.47          3500            257\n",
              "2            88.83          4952            360\n",
              "3            20.92          1233            128\n",
              "4            33.02          3180            224\n",
              "5            34.54          3271            250\n",
              "6            34.95          3327            253\n",
              "7            15.48          2762            215\n",
              "8            26.53          2910            236\n",
              "9            17.39          2748            228"
            ]
          },
          "execution_count": 17,
          "metadata": {},
          "output_type": "execute_result"
        }
      ]
    },
    {
      "cell_type": "markdown",
      "metadata": {
        "id": "4BjXb0BNoJFI"
      },
      "source": [
        "### Descriptive Statistics"
      ]
    },
    {
      "cell_type": "markdown",
      "metadata": {
        "id": "itGHlblxoJFI"
      },
      "source": [
        "A data frame also has the method `describe` that prints a number of common statistics - this is what we will use."
      ]
    },
    {
      "cell_type": "code",
      "metadata": {
        "id": "lIyLaofgoJFI",
        "outputId": "d4915b57-9e98-4d8d-ceb2-df3b14bf8588"
      },
      "source": [
        "data_df['Personal_Income'].describe()"
      ],
      "execution_count": null,
      "outputs": [
        {
          "data": {
            "text/plain": [
              "count    310.000000\n",
              "mean      49.979387\n",
              "std       37.881540\n",
              "min       10.350000\n",
              "25%       23.152500\n",
              "50%       37.140000\n",
              "75%       63.740000\n",
              "max      186.630000\n",
              "Name: Personal_Income, dtype: float64"
            ]
          },
          "execution_count": 18,
          "metadata": {},
          "output_type": "execute_result"
        }
      ]
    },
    {
      "cell_type": "code",
      "metadata": {
        "id": "FwZ2VZ6EoJFI",
        "outputId": "1e6db2f5-9e22-4b7d-a58a-25fb5a8f57e1"
      },
      "source": [
        "data_df.describe() # instead of a single variable, we can describe the entire dataframe (but only numeric variables)."
      ],
      "execution_count": null,
      "outputs": [
        {
          "data": {
            "text/html": [
              "<div>\n",
              "<style scoped>\n",
              "    .dataframe tbody tr th:only-of-type {\n",
              "        vertical-align: middle;\n",
              "    }\n",
              "\n",
              "    .dataframe tbody tr th {\n",
              "        vertical-align: top;\n",
              "    }\n",
              "\n",
              "    .dataframe thead th {\n",
              "        text-align: right;\n",
              "    }\n",
              "</style>\n",
              "<table border=\"1\" class=\"dataframe\">\n",
              "  <thead>\n",
              "    <tr style=\"text-align: right;\">\n",
              "      <th></th>\n",
              "      <th>Personal_Income</th>\n",
              "      <th>Credit_Limit</th>\n",
              "      <th>Credit_Rating</th>\n",
              "      <th>Number_of_Cards</th>\n",
              "      <th>Age</th>\n",
              "      <th>Education_Years</th>\n",
              "      <th>Credit_Balance</th>\n",
              "    </tr>\n",
              "  </thead>\n",
              "  <tbody>\n",
              "    <tr>\n",
              "      <th>count</th>\n",
              "      <td>310.000000</td>\n",
              "      <td>310.000000</td>\n",
              "      <td>310.000000</td>\n",
              "      <td>310.000000</td>\n",
              "      <td>310.000000</td>\n",
              "      <td>310.000000</td>\n",
              "      <td>310.000000</td>\n",
              "    </tr>\n",
              "    <tr>\n",
              "      <th>mean</th>\n",
              "      <td>49.979387</td>\n",
              "      <td>5485.467742</td>\n",
              "      <td>405.051613</td>\n",
              "      <td>2.996774</td>\n",
              "      <td>55.606452</td>\n",
              "      <td>13.425806</td>\n",
              "      <td>670.987097</td>\n",
              "    </tr>\n",
              "    <tr>\n",
              "      <th>std</th>\n",
              "      <td>37.881540</td>\n",
              "      <td>2052.451743</td>\n",
              "      <td>137.967389</td>\n",
              "      <td>1.426740</td>\n",
              "      <td>17.341794</td>\n",
              "      <td>3.208904</td>\n",
              "      <td>413.904019</td>\n",
              "    </tr>\n",
              "    <tr>\n",
              "      <th>min</th>\n",
              "      <td>10.350000</td>\n",
              "      <td>1160.000000</td>\n",
              "      <td>126.000000</td>\n",
              "      <td>1.000000</td>\n",
              "      <td>23.000000</td>\n",
              "      <td>5.000000</td>\n",
              "      <td>5.000000</td>\n",
              "    </tr>\n",
              "    <tr>\n",
              "      <th>25%</th>\n",
              "      <td>23.152500</td>\n",
              "      <td>3976.250000</td>\n",
              "      <td>304.000000</td>\n",
              "      <td>2.000000</td>\n",
              "      <td>42.000000</td>\n",
              "      <td>11.000000</td>\n",
              "      <td>338.000000</td>\n",
              "    </tr>\n",
              "    <tr>\n",
              "      <th>50%</th>\n",
              "      <td>37.140000</td>\n",
              "      <td>5147.000000</td>\n",
              "      <td>380.000000</td>\n",
              "      <td>3.000000</td>\n",
              "      <td>55.500000</td>\n",
              "      <td>14.000000</td>\n",
              "      <td>637.500000</td>\n",
              "    </tr>\n",
              "    <tr>\n",
              "      <th>75%</th>\n",
              "      <td>63.740000</td>\n",
              "      <td>6453.250000</td>\n",
              "      <td>469.000000</td>\n",
              "      <td>4.000000</td>\n",
              "      <td>69.000000</td>\n",
              "      <td>16.000000</td>\n",
              "      <td>960.750000</td>\n",
              "    </tr>\n",
              "    <tr>\n",
              "      <th>max</th>\n",
              "      <td>186.630000</td>\n",
              "      <td>13913.000000</td>\n",
              "      <td>982.000000</td>\n",
              "      <td>9.000000</td>\n",
              "      <td>98.000000</td>\n",
              "      <td>20.000000</td>\n",
              "      <td>1999.000000</td>\n",
              "    </tr>\n",
              "  </tbody>\n",
              "</table>\n",
              "</div>"
            ],
            "text/plain": [
              "       Personal_Income  Credit_Limit  Credit_Rating  Number_of_Cards  \\\n",
              "count       310.000000    310.000000     310.000000       310.000000   \n",
              "mean         49.979387   5485.467742     405.051613         2.996774   \n",
              "std          37.881540   2052.451743     137.967389         1.426740   \n",
              "min          10.350000   1160.000000     126.000000         1.000000   \n",
              "25%          23.152500   3976.250000     304.000000         2.000000   \n",
              "50%          37.140000   5147.000000     380.000000         3.000000   \n",
              "75%          63.740000   6453.250000     469.000000         4.000000   \n",
              "max         186.630000  13913.000000     982.000000         9.000000   \n",
              "\n",
              "              Age  Education_Years  Credit_Balance  \n",
              "count  310.000000       310.000000      310.000000  \n",
              "mean    55.606452        13.425806      670.987097  \n",
              "std     17.341794         3.208904      413.904019  \n",
              "min     23.000000         5.000000        5.000000  \n",
              "25%     42.000000        11.000000      338.000000  \n",
              "50%     55.500000        14.000000      637.500000  \n",
              "75%     69.000000        16.000000      960.750000  \n",
              "max     98.000000        20.000000     1999.000000  "
            ]
          },
          "execution_count": 19,
          "metadata": {},
          "output_type": "execute_result"
        }
      ]
    },
    {
      "cell_type": "markdown",
      "metadata": {
        "id": "mq1FDl3ooJFJ"
      },
      "source": [
        "### Dummy Coding\n",
        "\n",
        "Pandas provides a method to convert categorical variables, also called factors, into dummy variables. This is also known as one-hot encoding. \n",
        "\n",
        "The parameter prefix_sep indicates what symbol should separate the words of the new variables (Gender becomes Gender_Male and Gender_Female; Gender as a variable will no longer exist). \n",
        "\n",
        "The parameter drop_first=True is used for linear models (regression and classification) that cannot function with a 100% collinearity between variables. For example, Gender_Male and Gender_Female are perfectly collinear; when Male = 1, Female = 0 and vice versa. There are models, such as decision trees, that can operate with perfectly collinear variables, and in those cases, you would set drop_first=False."
      ]
    },
    {
      "cell_type": "code",
      "metadata": {
        "id": "J_7-0yKWoJFK",
        "outputId": "d35a54c1-8926-466e-8532-7181de48f0bf"
      },
      "source": [
        "data_df = pd.get_dummies(data_df, prefix_sep='_', drop_first=True)\n",
        "\n",
        "data_df.columns"
      ],
      "execution_count": null,
      "outputs": [
        {
          "data": {
            "text/plain": [
              "Index(['Personal_Income', 'Credit_Limit', 'Credit_Rating', 'Number_of_Cards',\n",
              "       'Age', 'Education_Years', 'Credit_Balance', 'Gender_Male',\n",
              "       'Student_Yes', 'Married_Yes', 'Ethnicity_Asian', 'Ethnicity_Caucasian'],\n",
              "      dtype='object')"
            ]
          },
          "execution_count": 20,
          "metadata": {},
          "output_type": "execute_result"
        }
      ]
    },
    {
      "cell_type": "markdown",
      "metadata": {
        "id": "hS07jrPJoJFL"
      },
      "source": [
        "### Create an object to hold just the predictors and another one to hold just the outcome variable."
      ]
    },
    {
      "cell_type": "code",
      "metadata": {
        "id": "LnPz6Oq5oJFM"
      },
      "source": [
        "X = data_df.drop('Credit_Balance', axis=1) # all variables EXCEPT Credit_Balance\n",
        "\n",
        "y = data_df.Credit_Balance # just the outcome variable"
      ],
      "execution_count": null,
      "outputs": []
    },
    {
      "cell_type": "markdown",
      "metadata": {
        "id": "fEqTRjuooJFM"
      },
      "source": [
        "### Creating a holdout dataset\n",
        "\n",
        "Split the dataset into training (60%) and validation (40%) sets. Randomly sample 60% of the dataset into a new data frame `trainData`. The remaining 40% serve as validation. NOTE: THIS IS NOT THE PREFERRED METHOD; SEE BELOW"
      ]
    },
    {
      "cell_type": "markdown",
      "metadata": {
        "id": "PmBFo7cxoJFN"
      },
      "source": [
        "#### This method also allows a 'stratify' parameter to be set on the response variable in a classification model that guarantees the training and test datasets will have the same ratio of samples in each class."
      ]
    },
    {
      "cell_type": "code",
      "metadata": {
        "id": "pIHIhozNoJFO",
        "outputId": "a74a6b8c-4a66-457d-ca2e-aaccbd22db64"
      },
      "source": [
        "from sklearn.model_selection import train_test_split\n",
        "\n",
        "train_X, test_X, train_y, test_y = train_test_split(X, y, test_size=0.40, random_state=12)\n",
        "\n",
        "print('Training   : ', train_X.shape)\n",
        "print('Validation : ', test_X.shape)"
      ],
      "execution_count": null,
      "outputs": [
        {
          "name": "stdout",
          "output_type": "stream",
          "text": [
            "Training   :  (186, 11)\n",
            "Validation :  (124, 11)\n"
          ]
        }
      ]
    },
    {
      "cell_type": "markdown",
      "metadata": {
        "id": "PJw53npZoJFW"
      },
      "source": [
        "### Create a linear regression model"
      ]
    },
    {
      "cell_type": "code",
      "metadata": {
        "id": "4cRv8NcSoJFX",
        "outputId": "1fc26987-7941-4fbe-c8cc-c8ebd810415f"
      },
      "source": [
        "# load the linear regression algorithm into an object called \"model_lm\"\n",
        "model_lm = LinearRegression()\n",
        "\n",
        "# fit the linear regression algorithm object to the training data, thus creating a model\n",
        "model_lm.fit(train_X, train_y)"
      ],
      "execution_count": null,
      "outputs": [
        {
          "data": {
            "text/plain": [
              "LinearRegression()"
            ]
          },
          "execution_count": 29,
          "metadata": {},
          "output_type": "execute_result"
        }
      ]
    },
    {
      "cell_type": "markdown",
      "metadata": {
        "id": "Y4tGFqSioJFX"
      },
      "source": [
        "### Check the performance results"
      ]
    },
    {
      "cell_type": "code",
      "metadata": {
        "id": "uQe6fhOhoJFZ",
        "outputId": "45117e14-0f30-44ba-ab03-015867a80cfe"
      },
      "source": [
        "# print performance measures of the training data\n",
        "regressionSummary(test_y, model_lm.predict(test_X))"
      ],
      "execution_count": null,
      "outputs": [
        {
          "name": "stdout",
          "output_type": "stream",
          "text": [
            "\n",
            "Regression statistics\n",
            "\n",
            "                      Mean Error (ME) : 0.8009\n",
            "       Root Mean Squared Error (RMSE) : 9.9218\n",
            "            Mean Absolute Error (MAE) : 7.9308\n",
            "          Mean Percentage Error (MPE) : 1.3929\n",
            "Mean Absolute Percentage Error (MAPE) : 3.6940\n"
          ]
        }
      ]
    },
    {
      "cell_type": "code",
      "metadata": {
        "id": "LjtGazTPoJFa"
      },
      "source": [
        ""
      ],
      "execution_count": null,
      "outputs": []
    }
  ]
}