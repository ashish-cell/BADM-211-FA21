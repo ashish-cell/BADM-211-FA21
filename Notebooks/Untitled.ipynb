{
 "cells": [
  {
   "cell_type": "code",
   "execution_count": 1,
   "id": "9edc1952-e8a9-4931-aa30-2ac432f34873",
   "metadata": {},
   "outputs": [],
   "source": [
    "import ipywidgets as widgets\n",
    "import sys\n",
    "from IPython.display import display\n",
    "from IPython.display import clear_output\n"
   ]
  },
  {
   "cell_type": "code",
   "execution_count": 2,
   "id": "9731fff3-dc15-449d-89d2-9f132ee17196",
   "metadata": {},
   "outputs": [
    {
     "name": "stdout",
     "output_type": "stream",
     "text": [
      "\u001b[1m 1) Hvilket alternativ er IKKE et lag i TCP/IP-stabelen (stack)? \u001b[0m\n"
     ]
    },
    {
     "data": {
      "application/vnd.jupyter.widget-view+json": {
       "model_id": "1af329e87fb1491899d7305cdcf91c3e",
       "version_major": 2,
       "version_minor": 0
      },
      "text/plain": [
       "RadioButtons(options=(('Det fysiske laget (Physical layer)', 1), ('Sammenkoblingslaget (Connection layer)', 2)…"
      ]
     },
     "metadata": {},
     "output_type": "display_data"
    },
    {
     "data": {
      "application/vnd.jupyter.widget-view+json": {
       "model_id": "684c925cca5c4748872601a8710a3ead",
       "version_major": 2,
       "version_minor": 0
      },
      "text/plain": [
       "Button(description='Sjekk svaret', style=ButtonStyle())"
      ]
     },
     "metadata": {},
     "output_type": "display_data"
    }
   ],
   "source": [
    "out = widgets.Output()\n",
    "\n",
    "alternativ = widgets.RadioButtons(\n",
    "    options=[('Det fysiske laget (Physical layer)', 1), ('Sammenkoblingslaget (Connection layer)', 2), ('Internettlaget (Internet layer)', 3),('Nettverksgrensesnitt-laget (Network layer)', 4)],\n",
    "    description='',\n",
    "    disabled=False\n",
    ")\n",
    "print('\\033[1m','1) Hvilket alternativ er IKKE et lag i TCP/IP-stabelen (stack)?','\\033[0m')\n",
    "check = widgets.Button(description=\"Sjekk svaret\")\n",
    "display(alternativ)\n",
    "display(check)"
   ]
  },
  {
   "cell_type": "code",
   "execution_count": 3,
   "id": "b0864ee6-0a02-46bc-8b19-bf841727c93f",
   "metadata": {},
   "outputs": [
    {
     "data": {
      "application/vnd.jupyter.widget-view+json": {
       "model_id": "54b958426284468795be8c2978a648d6",
       "version_major": 2,
       "version_minor": 0
      },
      "text/plain": [
       "Output()"
      ]
     },
     "metadata": {},
     "output_type": "display_data"
    }
   ],
   "source": [
    "def sjekksvar(b):\n",
    "        a = int(alternativ.value)\n",
    "        right_answer = 2\n",
    "        if(a==right_answer): \n",
    "            color = '\\x1b[6;30;42m' + \"Riktig.\" + '\\x1b[0m' +\"\\n\" #green color\n",
    "        else:\n",
    "            color = '\\x1b[5;30;41m' + \"Feil. \" + '\\x1b[0m' +\"\\n\" #red color\n",
    "        svar = [\"\",\"\",\"\",\"\"] \n",
    "        with out:\n",
    "            clear_output()\n",
    "        with out:\n",
    "            print(color+\"\"+svar[a-1])   \n",
    "    \n",
    "        \n",
    "        \n",
    "display(out)\n",
    "check.on_click(sjekksvar)"
   ]
  },
  {
   "cell_type": "code",
   "execution_count": 2,
   "id": "1e35777d-371b-4abb-b45d-e561ab333d40",
   "metadata": {},
   "outputs": [],
   "source": [
    "x = \"I am ashish\""
   ]
  },
  {
   "cell_type": "code",
   "execution_count": 4,
   "id": "d8f473ad-9b10-49d1-8f53-79a7dcaadfb0",
   "metadata": {},
   "outputs": [
    {
     "name": "stdout",
     "output_type": "stream",
     "text": [
      "I am printing I am ashish\n"
     ]
    }
   ],
   "source": [
    "print(f'I am printing {x}')"
   ]
  },
  {
   "cell_type": "code",
   "execution_count": 5,
   "id": "ace5e5ab-2bb0-4f9b-b528-e24e534aff34",
   "metadata": {},
   "outputs": [],
   "source": [
    "x = 2.34"
   ]
  },
  {
   "cell_type": "code",
   "execution_count": 17,
   "id": "0beb2136-ece5-454a-ade5-e2eb9289a50e",
   "metadata": {},
   "outputs": [
    {
     "name": "stdout",
     "output_type": "stream",
     "text": [
      "The model accuracy is       2.34\n"
     ]
    }
   ],
   "source": [
    "print(f'The model accuracy is {x:>10.4}')"
   ]
  },
  {
   "cell_type": "code",
   "execution_count": 18,
   "id": "7ebe6901-260f-43de-9770-e4ad2901f38d",
   "metadata": {},
   "outputs": [],
   "source": [
    "my_list = [ \"string\", 100, 23.2]"
   ]
  },
  {
   "cell_type": "code",
   "execution_count": 19,
   "id": "629c1fe4-ce37-4817-8554-d154eb974e0d",
   "metadata": {},
   "outputs": [
    {
     "data": {
      "text/plain": [
       "3"
      ]
     },
     "execution_count": 19,
     "metadata": {},
     "output_type": "execute_result"
    }
   ],
   "source": [
    "len(my_list)"
   ]
  },
  {
   "cell_type": "code",
   "execution_count": null,
   "id": "150927b4-a52b-45ad-b4d7-87997a7f5154",
   "metadata": {},
   "outputs": [],
   "source": []
  }
 ],
 "metadata": {
  "kernelspec": {
   "display_name": "Python 3",
   "language": "python",
   "name": "python3"
  },
  "language_info": {
   "codemirror_mode": {
    "name": "ipython",
    "version": 3
   },
   "file_extension": ".py",
   "mimetype": "text/x-python",
   "name": "python",
   "nbconvert_exporter": "python",
   "pygments_lexer": "ipython3",
   "version": "3.8.8"
  }
 },
 "nbformat": 4,
 "nbformat_minor": 5
}
