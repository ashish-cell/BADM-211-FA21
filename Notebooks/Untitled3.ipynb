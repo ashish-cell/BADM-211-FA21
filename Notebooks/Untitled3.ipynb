{
 "cells": [
  {
   "cell_type": "code",
   "execution_count": 2,
   "id": "c28b41d2-a537-4797-91eb-517642da3971",
   "metadata": {},
   "outputs": [],
   "source": [
    "import nbgrader as nb"
   ]
  },
  {
   "cell_type": "code",
   "execution_count": 3,
   "id": "3830dbf8-b245-46d3-9cdd-232a12e48429",
   "metadata": {},
   "outputs": [
    {
     "ename": "SyntaxError",
     "evalue": "invalid syntax (<ipython-input-3-6273da219ada>, line 1)",
     "output_type": "error",
     "traceback": [
      "\u001b[1;36m  File \u001b[1;32m\"<ipython-input-3-6273da219ada>\"\u001b[1;36m, line \u001b[1;32m1\u001b[0m\n\u001b[1;33m    jupyter nbextension install --sys-prefix --py nbgrader --overwrite\u001b[0m\n\u001b[1;37m            ^\u001b[0m\n\u001b[1;31mSyntaxError\u001b[0m\u001b[1;31m:\u001b[0m invalid syntax\n"
     ]
    }
   ],
   "source": [
    "jupyter nbextension install --sys-prefix --py nbgrader --overwrite\n"
   ]
  },
  {
   "cell_type": "code",
   "execution_count": null,
   "id": "66601fa5-89c3-44b4-9f02-dc81f156e88b",
   "metadata": {},
   "outputs": [],
   "source": []
  }
 ],
 "metadata": {
  "kernelspec": {
   "display_name": "Python 3",
   "language": "python",
   "name": "python3"
  },
  "language_info": {
   "codemirror_mode": {
    "name": "ipython",
    "version": 3
   },
   "file_extension": ".py",
   "mimetype": "text/x-python",
   "name": "python",
   "nbconvert_exporter": "python",
   "pygments_lexer": "ipython3",
   "version": "3.8.8"
  }
 },
 "nbformat": 4,
 "nbformat_minor": 5
}
